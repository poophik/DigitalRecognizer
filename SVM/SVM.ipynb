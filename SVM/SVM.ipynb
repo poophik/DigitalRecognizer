{
 "cells": [
  {
   "cell_type": "code",
   "execution_count": null,
   "metadata": {},
   "outputs": [],
   "source": [
    "import pandas as pd\n",
    "import matplotlib.pyplot as plt, matplotlib.image as mpimg\n",
    "from sklearn.model_selection import train_test_split\n",
    "from sklearn import svm\n",
    "%matplotlib inline"
   ]
  },
  {
   "cell_type": "code",
   "execution_count": 6,
   "metadata": {
    "collapsed": false
   },
   "outputs": [],
   "source": [
    "labeled_images = pd.read_csv('~/Documents/Kaggle/DigitRecognizer/input/train.csv')"
   ]
  },
  {
   "cell_type": "code",
   "execution_count": 7,
   "metadata": {},
   "outputs": [],
   "source": [
    "set_counts = 5000\n",
    "images = labeled_images.iloc[0:set_counts, 1:]\n",
    "labels = labeled_images.iloc[0:set_counts, :1]"
   ]
  },
  {
   "cell_type": "code",
   "execution_count": null,
   "metadata": {},
   "outputs": [
    {
     "name": "stderr",
     "output_type": "stream",
     "text": [
      "/Users/nsardaryan/Documents/Kaggle/KaggleEnv/lib/python3.6/site-packages/sklearn/model_selection/_split.py:2010: FutureWarning: From version 0.21, test_size will always complement train_size unless both are specified.\n  FutureWarning)\n"
     ]
    }
   ],
   "source": [
    "train_images, test_images, train_labels, test_labels = train_test_split(images, labels, train_size=0.8, random_state=0)"
   ]
  },
  {
   "cell_type": "code",
   "execution_count": 9,
   "metadata": {},
   "outputs": [
    {
     "name": "stdout",
     "output_type": "stream",
     "text": [
      "      pixel0  pixel1  pixel2  pixel3  pixel4  pixel5  pixel6  pixel7  pixel8  \\\n2913       0       0       0       0       0       0       0       0       0   \n3275       0       0       0       0       0       0       0       0       0   \n775        0       0       0       0       0       0       0       0       0   \n217        0       0       0       0       0       0       0       0       0   \n1245       0       0       0       0       0       0       0       0       0   \n4316       0       0       0       0       0       0       0       0       0   \n4619       0       0       0       0       0       0       0       0       0   \n1363       0       0       0       0       0       0       0       0       0   \n630        0       0       0       0       0       0       0       0       0   \n3572       0       0       0       0       0       0       0       0       0   \n4124       0       0       0       0       0       0       0       0       0   \n4101       0       0       0       0       0       0       0       0       0   \n1881       0       0       0       0       0       0       0       0       0   \n1482       0       0       0       0       0       0       0       0       0   \n156        0       0       0       0       0       0       0       0       0   \n1196       0       0       0       0       0       0       0       0       0   \n2824       0       0       0       0       0       0       0       0       0   \n3283       0       0       0       0       0       0       0       0       0   \n3809       0       0       0       0       0       0       0       0       0   \n3908       0       0       0       0       0       0       0       0       0   \n2006       0       0       0       0       0       0       0       0       0   \n4740       0       0       0       0       0       0       0       0       0   \n2490       0       0       0       0       0       0       0       0       0   \n4139       0       0       0       0       0       0       0       0       0   \n22         0       0       0       0       0       0       0       0       0   \n4196       0       0       0       0       0       0       0       0       0   \n4054       0       0       0       0       0       0       0       0       0   \n2799       0       0       0       0       0       0       0       0       0   \n3578       0       0       0       0       0       0       0       0       0   \n4722       0       0       0       0       0       0       0       0       0   \n...      ...     ...     ...     ...     ...     ...     ...     ...     ...   \n3337       0       0       0       0       0       0       0       0       0   \n423        0       0       0       0       0       0       0       0       0   \n3219       0       0       0       0       0       0       0       0       0   \n659        0       0       0       0       0       0       0       0       0   \n797        0       0       0       0       0       0       0       0       0   \n755        0       0       0       0       0       0       0       0       0   \n2008       0       0       0       0       0       0       0       0       0   \n99         0       0       0       0       0       0       0       0       0   \n2496       0       0       0       0       0       0       0       0       0   \n1871       0       0       0       0       0       0       0       0       0   \n2046       0       0       0       0       0       0       0       0       0   \n4851       0       0       0       0       0       0       0       0       0   \n2163       0       0       0       0       0       0       0       0       0   \n2893       0       0       0       0       0       0       0       0       0   \n537        0       0       0       0       0       0       0       0       0   \n1701       0       0       0       0       0       0       0       0       0   \n2897       0       0       0       0       0       0       0       0       0   \n2222       0       0       0       0       0       0       0       0       0   \n2135       0       0       0       0       0       0       0       0       0   \n2599       0       0       0       0       0       0       0       0       0   \n705        0       0       0       0       0       0       0       0       0   \n3468       0       0       0       0       0       0       0       0       0   \n4373       0       0       0       0       0       0       0       0       0   \n1033       0       0       0       0       0       0       0       0       0   \n4859       0       0       0       0       0       0       0       0       0   \n4931       0       0       0       0       0       0       0       0       0   \n3264       0       0       0       0       0       0       0       0       0   \n1653       0       0       0       0       0       0       0       0       0   \n2607       0       0       0       0       0       0       0       0       0   \n2732       0       0       0       0       0       0       0       0       0   \n\n      pixel9    ...     pixel774  pixel775  pixel776  pixel777  pixel778  \\\n2913       0    ...            0         0         0         0         0   \n3275       0    ...            0         0         0         0         0   \n775        0    ...            0         0         0         0         0   \n217        0    ...            0         0         0         0         0   \n1245       0    ...            0         0         0         0         0   \n4316       0    ...            0         0         0         0         0   \n4619       0    ...            0         0         0         0         0   \n1363       0    ...            0         0         0         0         0   \n630        0    ...            0         0         0         0         0   \n3572       0    ...            0         0         0         0         0   \n4124       0    ...            0         0         0         0         0   \n4101       0    ...            0         0         0         0         0   \n1881       0    ...            0         0         0         0         0   \n1482       0    ...            0         0         0         0         0   \n156        0    ...            0         0         0         0         0   \n1196       0    ...            0         0         0         0         0   \n2824       0    ...            0         0         0         0         0   \n3283       0    ...            0         0         0         0         0   \n3809       0    ...            0         0         0         0         0   \n3908       0    ...            0         0         0         0         0   \n2006       0    ...            0         0         0         0         0   \n4740       0    ...            0         0         0         0         0   \n2490       0    ...            0         0         0         0         0   \n4139       0    ...            0         0         0         0         0   \n22         0    ...            0         0         0         0         0   \n4196       0    ...            0         0         0         0         0   \n4054       0    ...            0         0         0         0         0   \n2799       0    ...            0         0         0         0         0   \n3578       0    ...            0         0         0         0         0   \n4722       0    ...            0         0         0         0         0   \n...      ...    ...          ...       ...       ...       ...       ...   \n3337       0    ...            0         0         0         0         0   \n423        0    ...            0         0         0         0         0   \n3219       0    ...            0         0         0         0         0   \n659        0    ...            0         0         0         0         0   \n797        0    ...            0         0         0         0         0   \n755        0    ...            0         0         0         0         0   \n2008       0    ...            0         0         0         0         0   \n99         0    ...            0         0         0         0         0   \n2496       0    ...            0         0         0         0         0   \n1871       0    ...            0         0         0         0         0   \n2046       0    ...            0         0         0         0         0   \n4851       0    ...            0         0         0         0         0   \n2163       0    ...            0         0         0         0         0   \n2893       0    ...            0         0         0         0         0   \n537        0    ...            0         0         0         0         0   \n1701       0    ...            0         0         0         0         0   \n2897       0    ...            0         0         0         0         0   \n2222       0    ...            0         0         0         0         0   \n2135       0    ...            0         0         0         0         0   \n2599       0    ...            0         0         0         0         0   \n705        0    ...            0         0         0         0         0   \n3468       0    ...            0         0         0         0         0   \n4373       0    ...            0         0         0         0         0   \n1033       0    ...            0         0         0         0         0   \n4859       0    ...            0         0         0         0         0   \n4931       0    ...            0         0         0         0         0   \n3264       0    ...            0         0         0         0         0   \n1653       0    ...            0         0         0         0         0   \n2607       0    ...            0         0         0         0         0   \n2732       0    ...            0         0         0         0         0   \n\n      pixel779  pixel780  pixel781  pixel782  pixel783  \n2913         0         0         0         0         0  \n3275         0         0         0         0         0  \n775          0         0         0         0         0  \n217          0         0         0         0         0  \n1245         0         0         0         0         0  \n4316         0         0         0         0         0  \n4619         0         0         0         0         0  \n1363         0         0         0         0         0  \n630          0         0         0         0         0  \n3572         0         0         0         0         0  \n4124         0         0         0         0         0  \n4101         0         0         0         0         0  \n1881         0         0         0         0         0  \n1482         0         0         0         0         0  \n156          0         0         0         0         0  \n1196         0         0         0         0         0  \n2824         0         0         0         0         0  \n3283         0         0         0         0         0  \n3809         0         0         0         0         0  \n3908         0         0         0         0         0  \n2006         0         0         0         0         0  \n4740         0         0         0         0         0  \n2490         0         0         0         0         0  \n4139         0         0         0         0         0  \n22           0         0         0         0         0  \n4196         0         0         0         0         0  \n4054         0         0         0         0         0  \n2799         0         0         0         0         0  \n3578         0         0         0         0         0  \n4722         0         0         0         0         0  \n...        ...       ...       ...       ...       ...  \n3337         0         0         0         0         0  \n423          0         0         0         0         0  \n3219         0         0         0         0         0  \n659          0         0         0         0         0  \n797          0         0         0         0         0  \n755          0         0         0         0         0  \n2008         0         0         0         0         0  \n99           0         0         0         0         0  \n2496         0         0         0         0         0  \n1871         0         0         0         0         0  \n2046         0         0         0         0         0  \n4851         0         0         0         0         0  \n2163         0         0         0         0         0  \n2893         0         0         0         0         0  \n537          0         0         0         0         0  \n1701         0         0         0         0         0  \n2897         0         0         0         0         0  \n2222         0         0         0         0         0  \n2135         0         0         0         0         0  \n2599         0         0         0         0         0  \n705          0         0         0         0         0  \n3468         0         0         0         0         0  \n4373         0         0         0         0         0  \n1033         0         0         0         0         0  \n4859         0         0         0         0         0  \n4931         0         0         0         0         0  \n3264         0         0         0         0         0  \n1653         0         0         0         0         0  \n2607         0         0         0         0         0  \n2732         0         0         0         0         0  \n\n[4000 rows x 784 columns]\n"
     ]
    }
   ],
   "source": [
    "print(train_images)"
   ]
  },
  {
   "cell_type": "code",
   "execution_count": null,
   "metadata": {},
   "outputs": [],
   "source": []
  }
 ],
 "metadata": {
  "kernelspec": {
   "display_name": "Python 2",
   "language": "python",
   "name": "python2"
  },
  "language_info": {
   "codemirror_mode": {
    "name": "ipython",
    "version": 2
   },
   "file_extension": ".py",
   "mimetype": "text/x-python",
   "name": "python",
   "nbconvert_exporter": "python",
   "pygments_lexer": "ipython2",
   "version": "2.7.6"
  }
 },
 "nbformat": 4,
 "nbformat_minor": 0
}
